{
 "cells": [
  {
   "cell_type": "markdown",
   "id": "c302037f",
   "metadata": {},
   "source": [
    "# 13.1"
   ]
  },
  {
   "cell_type": "code",
   "execution_count": 1,
   "id": "26c6a1af",
   "metadata": {},
   "outputs": [],
   "source": [
    "from datetime import date\n",
    "\n",
    "# Get the current date\n",
    "current_date = date.today()\n",
    "\n",
    "# Write the current date to a file\n",
    "with open('today.txt', 'w') as file:\n",
    "    file.write(str(current_date))\n"
   ]
  },
  {
   "cell_type": "markdown",
   "id": "cb869a37",
   "metadata": {},
   "source": [
    "# 13.2"
   ]
  },
  {
   "cell_type": "code",
   "execution_count": 2,
   "id": "3f8641ac",
   "metadata": {},
   "outputs": [
    {
     "name": "stdout",
     "output_type": "stream",
     "text": [
      "2023-07-17\n"
     ]
    }
   ],
   "source": [
    "# Open the file\n",
    "with open('today.txt', 'r') as file:\n",
    "    # Read the file content into a string\n",
    "    today_string = file.read()\n",
    "\n",
    "print(today_string)\n"
   ]
  },
  {
   "cell_type": "markdown",
   "id": "48b90efd",
   "metadata": {},
   "source": [
    "# 13.3"
   ]
  },
  {
   "cell_type": "code",
   "execution_count": 3,
   "id": "08e99344",
   "metadata": {},
   "outputs": [
    {
     "name": "stdout",
     "output_type": "stream",
     "text": [
      "2023-07-17 00:00:00\n"
     ]
    }
   ],
   "source": [
    "from datetime import datetime\n",
    "\n",
    "# Parse the date from the string\n",
    "parsed_date = datetime.strptime(today_string, '%Y-%m-%d')\n",
    "\n",
    "print(parsed_date)\n"
   ]
  },
  {
   "cell_type": "markdown",
   "id": "627aee0e",
   "metadata": {},
   "source": [
    "# 15.1"
   ]
  },
  {
   "cell_type": "code",
   "execution_count": null,
   "id": "279fbafe",
   "metadata": {},
   "outputs": [],
   "source": [
    "import multiprocessing\n",
    "import time\n",
    "from datetime import datetime\n",
    "import random\n",
    "\n",
    "# function that waits a random number of seconds, prints time and exits\n",
    "def print_time_and_exit():\n",
    "    time.sleep(random.random())\n",
    "    print('Current time:', datetime.now())\n",
    "\n",
    "# Create three processes\n",
    "for _ in range(3):\n",
    "    process = multiprocessing.Process(target=print_time_and_exit)\n",
    "    process.start()"
   ]
  },
  {
   "cell_type": "code",
   "execution_count": null,
   "id": "3bfaa437",
   "metadata": {},
   "outputs": [],
   "source": []
  }
 ],
 "metadata": {
  "kernelspec": {
   "display_name": "Python 3 (ipykernel)",
   "language": "python",
   "name": "python3"
  },
  "language_info": {
   "codemirror_mode": {
    "name": "ipython",
    "version": 3
   },
   "file_extension": ".py",
   "mimetype": "text/x-python",
   "name": "python",
   "nbconvert_exporter": "python",
   "pygments_lexer": "ipython3",
   "version": "3.10.9"
  }
 },
 "nbformat": 4,
 "nbformat_minor": 5
}
